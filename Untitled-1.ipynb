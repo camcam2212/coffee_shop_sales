{
 "cells": [
  {
   "cell_type": "code",
   "execution_count": 1,
   "metadata": {},
   "outputs": [],
   "source": [
    "import pandas as pd\n",
    "import numpy as np\n",
    "import matplotlib.pyplot as plt\n",
    "from sklearn.preprocessing import MinMaxScaler"
   ]
  },
  {
   "cell_type": "code",
   "execution_count": 2,
   "metadata": {},
   "outputs": [
    {
     "name": "stdout",
     "output_type": "stream",
     "text": [
      "     store_id  product_id  unit_price  no_trans   amount   avg_qty\n",
      "0           3          12        8.95        55   492.25  1.000000\n",
      "1           3          16        8.95        31   277.45  1.000000\n",
      "2           3          13        8.95        55   492.25  1.000000\n",
      "3           3          11        8.95        42   375.90  1.000000\n",
      "4           3          14        8.95        30   268.50  1.000000\n",
      "..        ...         ...         ...       ...      ...       ...\n",
      "254         8          63        0.80       604   754.40  1.561258\n",
      "255         8          65        0.80       602   717.60  1.490033\n",
      "256         8          84        0.80       588   711.20  1.511905\n",
      "257         8           8       45.00        94  7380.00  1.744681\n",
      "258         8          87        2.10       489  1180.20  1.149284\n",
      "\n",
      "[259 rows x 6 columns]\n",
      "     store_id  product_id  unit_price  no_trans   amount   avg_qty\n",
      "0           3          12        8.95        55   492.25  1.000000\n",
      "1           3          16        8.95        31   277.45  1.000000\n",
      "2           3          13        8.95        55   492.25  1.000000\n",
      "3           3          11        8.95        42   375.90  1.000000\n",
      "4           3          14        8.95        30   268.50  1.000000\n",
      "..        ...         ...         ...       ...      ...       ...\n",
      "254         8          63        0.80       604   754.40  1.561258\n",
      "255         8          65        0.80       602   717.60  1.490033\n",
      "256         8          84        0.80       588   711.20  1.511905\n",
      "257         8           8       45.00        94  7380.00  1.744681\n",
      "258         8          87        2.10       489  1180.20  1.149284\n",
      "\n",
      "[259 rows x 6 columns]\n"
     ]
    }
   ],
   "source": [
    "file_path = r'D:\\OneDrive\\KiotViet\\Python_for_work\\coffee_shop_sales\\Book1.xlsx'\n",
    "try:\n",
    "    data1 = pd.read_excel(file_path)\n",
    "    print(data1)\n",
    "except Exception as e:\n",
    "    print(f\"Error: {e}\")\n",
    "data1 = pd.read_excel(file_path, engine='openpyxl')\n",
    "print(data1)\n"
   ]
  },
  {
   "cell_type": "code",
   "execution_count": 3,
   "metadata": {},
   "outputs": [
    {
     "data": {
      "text/plain": [
       "Index(['store_id', 'product_id', 'unit_price', 'no_trans', 'amount',\n",
       "       'avg_qty'],\n",
       "      dtype='object')"
      ]
     },
     "execution_count": 3,
     "metadata": {},
     "output_type": "execute_result"
    }
   ],
   "source": [
    "data1.columns"
   ]
  },
  {
   "cell_type": "code",
   "execution_count": 4,
   "metadata": {},
   "outputs": [
    {
     "name": "stdout",
     "output_type": "stream",
     "text": [
      "   store_id  product_id  unit_price  no_trans    amount  avg_qty\n",
      "0         3          12    0.542534  0.203359  0.225631      0.1\n",
      "1         3          16    0.542534  0.153747  0.159660      0.1\n",
      "2         3          13    0.542534  0.203359  0.225631      0.1\n",
      "3         3          11    0.542534  0.176486  0.189897      0.1\n",
      "4         3          14    0.542534  0.151680  0.156911      0.1\n"
     ]
    }
   ],
   "source": [
    "# Lấy các cột cần scale\n",
    "columns_to_scale = ['unit_price', 'no_trans', 'amount', 'avg_qty']\n",
    "\n",
    "# Khởi tạo MinMaxScaler với phạm vi từ 0.1 đến 2.5\n",
    "scaler = MinMaxScaler(feature_range=(0.1, 2.5))\n",
    "\n",
    "# Khởi tạo DataFrame rỗng để lưu kết quả\n",
    "scaled_data = pd.DataFrame()\n",
    "\n",
    "# Group by theo 'store_id'\n",
    "groups = data1.groupby('store_id')\n",
    "\n",
    "# Áp dụng scaling cho từng group\n",
    "for name, group in groups:\n",
    "    scaled_group = group.copy()\n",
    "    scaled_group[columns_to_scale] = scaler.fit_transform(group[columns_to_scale])\n",
    "    scaled_data = pd.concat([scaled_data, scaled_group])\n",
    "\n",
    "# Đặt lại chỉ mục của DataFrame kết quả\n",
    "scaled_data.reset_index(drop=True, inplace=True)\n",
    "\n",
    "# Hiển thị DataFrame đã được scale\n",
    "print(scaled_data.head())"
   ]
  },
  {
   "cell_type": "code",
   "execution_count": 5,
   "metadata": {},
   "outputs": [
    {
     "data": {
      "text/html": [
       "<div>\n",
       "<style scoped>\n",
       "    .dataframe tbody tr th:only-of-type {\n",
       "        vertical-align: middle;\n",
       "    }\n",
       "\n",
       "    .dataframe tbody tr th {\n",
       "        vertical-align: top;\n",
       "    }\n",
       "\n",
       "    .dataframe thead th {\n",
       "        text-align: right;\n",
       "    }\n",
       "</style>\n",
       "<table border=\"1\" class=\"dataframe\">\n",
       "  <thead>\n",
       "    <tr style=\"text-align: right;\">\n",
       "      <th></th>\n",
       "      <th>store_id</th>\n",
       "      <th>product_id</th>\n",
       "      <th>unit_price</th>\n",
       "      <th>no_trans</th>\n",
       "      <th>amount</th>\n",
       "      <th>avg_qty</th>\n",
       "    </tr>\n",
       "  </thead>\n",
       "  <tbody>\n",
       "    <tr>\n",
       "      <th>0</th>\n",
       "      <td>3</td>\n",
       "      <td>12</td>\n",
       "      <td>0.542534</td>\n",
       "      <td>0.203359</td>\n",
       "      <td>0.225631</td>\n",
       "      <td>0.100000</td>\n",
       "    </tr>\n",
       "    <tr>\n",
       "      <th>1</th>\n",
       "      <td>3</td>\n",
       "      <td>16</td>\n",
       "      <td>0.542534</td>\n",
       "      <td>0.153747</td>\n",
       "      <td>0.159660</td>\n",
       "      <td>0.100000</td>\n",
       "    </tr>\n",
       "    <tr>\n",
       "      <th>2</th>\n",
       "      <td>3</td>\n",
       "      <td>13</td>\n",
       "      <td>0.542534</td>\n",
       "      <td>0.203359</td>\n",
       "      <td>0.225631</td>\n",
       "      <td>0.100000</td>\n",
       "    </tr>\n",
       "    <tr>\n",
       "      <th>3</th>\n",
       "      <td>3</td>\n",
       "      <td>11</td>\n",
       "      <td>0.542534</td>\n",
       "      <td>0.176486</td>\n",
       "      <td>0.189897</td>\n",
       "      <td>0.100000</td>\n",
       "    </tr>\n",
       "    <tr>\n",
       "      <th>4</th>\n",
       "      <td>3</td>\n",
       "      <td>14</td>\n",
       "      <td>0.542534</td>\n",
       "      <td>0.151680</td>\n",
       "      <td>0.156911</td>\n",
       "      <td>0.100000</td>\n",
       "    </tr>\n",
       "    <tr>\n",
       "      <th>...</th>\n",
       "      <td>...</td>\n",
       "      <td>...</td>\n",
       "      <td>...</td>\n",
       "      <td>...</td>\n",
       "      <td>...</td>\n",
       "      <td>...</td>\n",
       "    </tr>\n",
       "    <tr>\n",
       "      <th>254</th>\n",
       "      <td>8</td>\n",
       "      <td>63</td>\n",
       "      <td>0.100000</td>\n",
       "      <td>1.447246</td>\n",
       "      <td>0.327390</td>\n",
       "      <td>1.908855</td>\n",
       "    </tr>\n",
       "    <tr>\n",
       "      <th>255</th>\n",
       "      <td>8</td>\n",
       "      <td>65</td>\n",
       "      <td>0.100000</td>\n",
       "      <td>1.442609</td>\n",
       "      <td>0.315323</td>\n",
       "      <td>1.679307</td>\n",
       "    </tr>\n",
       "    <tr>\n",
       "      <th>256</th>\n",
       "      <td>8</td>\n",
       "      <td>84</td>\n",
       "      <td>0.100000</td>\n",
       "      <td>1.410145</td>\n",
       "      <td>0.313224</td>\n",
       "      <td>1.749796</td>\n",
       "    </tr>\n",
       "    <tr>\n",
       "      <th>257</th>\n",
       "      <td>8</td>\n",
       "      <td>8</td>\n",
       "      <td>2.500000</td>\n",
       "      <td>0.264638</td>\n",
       "      <td>2.500000</td>\n",
       "      <td>2.500000</td>\n",
       "    </tr>\n",
       "    <tr>\n",
       "      <th>258</th>\n",
       "      <td>8</td>\n",
       "      <td>87</td>\n",
       "      <td>0.170588</td>\n",
       "      <td>1.180580</td>\n",
       "      <td>0.467015</td>\n",
       "      <td>0.581122</td>\n",
       "    </tr>\n",
       "  </tbody>\n",
       "</table>\n",
       "<p>259 rows × 6 columns</p>\n",
       "</div>"
      ],
      "text/plain": [
       "     store_id  product_id  unit_price  no_trans    amount   avg_qty\n",
       "0           3          12    0.542534  0.203359  0.225631  0.100000\n",
       "1           3          16    0.542534  0.153747  0.159660  0.100000\n",
       "2           3          13    0.542534  0.203359  0.225631  0.100000\n",
       "3           3          11    0.542534  0.176486  0.189897  0.100000\n",
       "4           3          14    0.542534  0.151680  0.156911  0.100000\n",
       "..        ...         ...         ...       ...       ...       ...\n",
       "254         8          63    0.100000  1.447246  0.327390  1.908855\n",
       "255         8          65    0.100000  1.442609  0.315323  1.679307\n",
       "256         8          84    0.100000  1.410145  0.313224  1.749796\n",
       "257         8           8    2.500000  0.264638  2.500000  2.500000\n",
       "258         8          87    0.170588  1.180580  0.467015  0.581122\n",
       "\n",
       "[259 rows x 6 columns]"
      ]
     },
     "execution_count": 5,
     "metadata": {},
     "output_type": "execute_result"
    }
   ],
   "source": [
    "scaled_data"
   ]
  },
  {
   "cell_type": "code",
   "execution_count": 6,
   "metadata": {},
   "outputs": [],
   "source": [
    "scaled_file_path = r'D:\\OneDrive\\KiotViet\\Python_for_work\\coffee_shop_sales\\Scaled_Book1.xlsx'\n",
    "scaled_data.to_excel(scaled_file_path, index=False)\n"
   ]
  },
  {
   "cell_type": "code",
   "execution_count": 7,
   "metadata": {},
   "outputs": [],
   "source": [
    "df  = pd.read_csv(r'D:\\OneDrive\\KiotViet\\Python_for_work\\coffee_shop_sales\\transactions.csv')"
   ]
  },
  {
   "cell_type": "code",
   "execution_count": 8,
   "metadata": {},
   "outputs": [
    {
     "data": {
      "text/plain": [
       "Index(['id', 'transaction_date', 'transaction_time', 'quantity', 'store_id',\n",
       "       'store_location', 'product_id', 'unit_price', 'product_category',\n",
       "       'product_type', 'product_detail'],\n",
       "      dtype='object')"
      ]
     },
     "execution_count": 8,
     "metadata": {},
     "output_type": "execute_result"
    }
   ],
   "source": [
    "df.columns"
   ]
  },
  {
   "cell_type": "code",
   "execution_count": 9,
   "metadata": {},
   "outputs": [],
   "source": [
    "df = df[['transaction_date','unit_price','quantity']]"
   ]
  },
  {
   "cell_type": "code",
   "execution_count": 10,
   "metadata": {},
   "outputs": [
    {
     "data": {
      "text/plain": [
       "Index(['transaction_date', 'amount'], dtype='object')"
      ]
     },
     "execution_count": 10,
     "metadata": {},
     "output_type": "execute_result"
    }
   ],
   "source": [
    "df['amount'] = df['unit_price'] * df['quantity']\n",
    "df['transaction_date'] = pd.to_datetime(df['transaction_date'] )\n",
    "df = df[['transaction_date','amount']]\n",
    "df.columns"
   ]
  },
  {
   "cell_type": "code",
   "execution_count": 11,
   "metadata": {},
   "outputs": [
    {
     "name": "stdout",
     "output_type": "stream",
     "text": [
      "    transaction_date   amount\n",
      "0         2023-01-01  2508.20\n",
      "1         2023-01-02  2403.35\n",
      "2         2023-01-03  2565.00\n",
      "3         2023-01-04  2220.10\n",
      "4         2023-01-05  2418.85\n",
      "..               ...      ...\n",
      "360       2023-12-27     0.00\n",
      "361       2023-12-28     0.00\n",
      "362       2023-12-29     0.00\n",
      "363       2023-12-30     0.00\n",
      "364       2023-12-31     0.00\n",
      "\n",
      "[365 rows x 2 columns]\n"
     ]
    }
   ],
   "source": [
    "# Group by transaction_date và tổng hợp amount\n",
    "df_grouped = df.groupby('transaction_date').sum().reset_index()\n",
    "\n",
    "# Tạo một DataFrame mới với các ngày từ 1/7/2023 đến 31/12/2023\n",
    "future_dates = pd.date_range(start='2023-07-01', end='2023-12-31')\n",
    "\n",
    "# Tạo DataFrame cho các ngày mới với amount = 0\n",
    "future_df = pd.DataFrame({'transaction_date': future_dates, 'amount': 0})\n",
    "\n",
    "# Hợp nhất DataFrame hiện tại với DataFrame mới\n",
    "df_combined = pd.concat([df_grouped, future_df], ignore_index=True)\n",
    "\n",
    "# Sắp xếp lại theo transaction_date\n",
    "df_combined = df_combined.sort_values('transaction_date').reset_index(drop=True)\n",
    "df_combined = df_combined.groupby('transaction_date').sum().reset_index()\n",
    "\n",
    "print(df_combined)"
   ]
  },
  {
   "cell_type": "code",
   "execution_count": 12,
   "metadata": {},
   "outputs": [],
   "source": [
    "df = df_combined"
   ]
  },
  {
   "cell_type": "code",
   "execution_count": 13,
   "metadata": {},
   "outputs": [
    {
     "data": {
      "text/html": [
       "<div>\n",
       "<style scoped>\n",
       "    .dataframe tbody tr th:only-of-type {\n",
       "        vertical-align: middle;\n",
       "    }\n",
       "\n",
       "    .dataframe tbody tr th {\n",
       "        vertical-align: top;\n",
       "    }\n",
       "\n",
       "    .dataframe thead th {\n",
       "        text-align: right;\n",
       "    }\n",
       "</style>\n",
       "<table border=\"1\" class=\"dataframe\">\n",
       "  <thead>\n",
       "    <tr style=\"text-align: right;\">\n",
       "      <th></th>\n",
       "      <th>transaction_date</th>\n",
       "      <th>amount</th>\n",
       "    </tr>\n",
       "  </thead>\n",
       "  <tbody>\n",
       "    <tr>\n",
       "      <th>0</th>\n",
       "      <td>2023-01-01</td>\n",
       "      <td>2508.20</td>\n",
       "    </tr>\n",
       "    <tr>\n",
       "      <th>1</th>\n",
       "      <td>2023-01-02</td>\n",
       "      <td>2403.35</td>\n",
       "    </tr>\n",
       "    <tr>\n",
       "      <th>2</th>\n",
       "      <td>2023-01-03</td>\n",
       "      <td>2565.00</td>\n",
       "    </tr>\n",
       "    <tr>\n",
       "      <th>3</th>\n",
       "      <td>2023-01-04</td>\n",
       "      <td>2220.10</td>\n",
       "    </tr>\n",
       "    <tr>\n",
       "      <th>4</th>\n",
       "      <td>2023-01-05</td>\n",
       "      <td>2418.85</td>\n",
       "    </tr>\n",
       "    <tr>\n",
       "      <th>...</th>\n",
       "      <td>...</td>\n",
       "      <td>...</td>\n",
       "    </tr>\n",
       "    <tr>\n",
       "      <th>360</th>\n",
       "      <td>2023-12-27</td>\n",
       "      <td>0.00</td>\n",
       "    </tr>\n",
       "    <tr>\n",
       "      <th>361</th>\n",
       "      <td>2023-12-28</td>\n",
       "      <td>0.00</td>\n",
       "    </tr>\n",
       "    <tr>\n",
       "      <th>362</th>\n",
       "      <td>2023-12-29</td>\n",
       "      <td>0.00</td>\n",
       "    </tr>\n",
       "    <tr>\n",
       "      <th>363</th>\n",
       "      <td>2023-12-30</td>\n",
       "      <td>0.00</td>\n",
       "    </tr>\n",
       "    <tr>\n",
       "      <th>364</th>\n",
       "      <td>2023-12-31</td>\n",
       "      <td>0.00</td>\n",
       "    </tr>\n",
       "  </tbody>\n",
       "</table>\n",
       "<p>365 rows × 2 columns</p>\n",
       "</div>"
      ],
      "text/plain": [
       "    transaction_date   amount\n",
       "0         2023-01-01  2508.20\n",
       "1         2023-01-02  2403.35\n",
       "2         2023-01-03  2565.00\n",
       "3         2023-01-04  2220.10\n",
       "4         2023-01-05  2418.85\n",
       "..               ...      ...\n",
       "360       2023-12-27     0.00\n",
       "361       2023-12-28     0.00\n",
       "362       2023-12-29     0.00\n",
       "363       2023-12-30     0.00\n",
       "364       2023-12-31     0.00\n",
       "\n",
       "[365 rows x 2 columns]"
      ]
     },
     "execution_count": 13,
     "metadata": {},
     "output_type": "execute_result"
    }
   ],
   "source": [
    "df"
   ]
  },
  {
   "cell_type": "code",
   "execution_count": 14,
   "metadata": {},
   "outputs": [],
   "source": [
    "import matplotlib.pyplot as plt\n",
    "import statsmodels.api as sm\n",
    "from datetime import datetime"
   ]
  },
  {
   "cell_type": "code",
   "execution_count": 15,
   "metadata": {},
   "outputs": [],
   "source": [
    "# Đặt transaction_date làm index\n",
    "df.set_index('transaction_date', inplace=True)\n",
    "\n",
    "# Tổng hợp doanh thu theo ngày\n",
    "df_daily = df.resample('D').sum()\n"
   ]
  },
  {
   "cell_type": "code",
   "execution_count": 16,
   "metadata": {},
   "outputs": [
    {
     "name": "stdout",
     "output_type": "stream",
     "text": [
      "Results of Dickey-Fuller Test:\n",
      "Test Statistic                  -1.201110\n",
      "p-value                          0.673118\n",
      "#Lags Used                       2.000000\n",
      "Number of Observations Used    362.000000\n",
      "Critical Value (1%)             -3.448544\n",
      "Critical Value (5%)             -2.869557\n",
      "Critical Value (10%)            -2.571041\n",
      "dtype: float64\n"
     ]
    }
   ],
   "source": [
    "# Bước 2: Phân tích dữ liệu\n",
    "# Kiểm tra tính ổn định của dữ liệu\n",
    "from statsmodels.tsa.stattools import adfuller\n",
    "\n",
    "def test_stationarity(timeseries):\n",
    "    # Perform Dickey-Fuller test:\n",
    "    print('Results of Dickey-Fuller Test:')\n",
    "    dftest = adfuller(timeseries, autolag='AIC')\n",
    "    dfoutput = pd.Series(dftest[0:4], index=['Test Statistic','p-value','#Lags Used','Number of Observations Used'])\n",
    "    for key,value in dftest[4].items():\n",
    "        dfoutput['Critical Value (%s)'%key] = value\n",
    "    print(dfoutput)\n",
    "\n",
    "test_stationarity(df_daily['amount'])\n"
   ]
  },
  {
   "cell_type": "code",
   "execution_count": 17,
   "metadata": {},
   "outputs": [],
   "source": [
    "# Bước 3: Xây dựng mô hình ARIMAX\n",
    "# Tạo các biến lag của doanh thu\n",
    "df_daily['amount_lag1'] = df_daily['amount'].shift(1)\n",
    "df_daily['amount_lag2'] = df_daily['amount'].shift(2)\n",
    "\n",
    "# Điền giá trị NA bằng giá trị trung bình\n",
    "df_daily = df_daily.fillna(df_daily.mean())\n",
    "\n",
    "# Chia dữ liệu thành tập huấn luyện và kiểm tra\n",
    "train_data = df_daily[:'2023-06-30']\n",
    "test_data = df_daily['2023-07-01':]\n"
   ]
  },
  {
   "cell_type": "code",
   "execution_count": 18,
   "metadata": {},
   "outputs": [],
   "source": [
    "from sklearn.metrics import mean_absolute_error, mean_squared_error, root_mean_squared_error"
   ]
  },
  {
   "cell_type": "code",
   "execution_count": 24,
   "metadata": {},
   "outputs": [
    {
     "name": "stderr",
     "output_type": "stream",
     "text": [
      "C:\\Users\\admin\\AppData\\Local\\Packages\\PythonSoftwareFoundation.Python.3.11_qbz5n2kfra8p0\\LocalCache\\local-packages\\Python311\\site-packages\\statsmodels\\tsa\\statespace\\sarimax.py:966: UserWarning: Non-stationary starting autoregressive parameters found. Using zeros as starting parameters.\n",
      "  warn('Non-stationary starting autoregressive parameters'\n",
      "C:\\Users\\admin\\AppData\\Local\\Packages\\PythonSoftwareFoundation.Python.3.11_qbz5n2kfra8p0\\LocalCache\\local-packages\\Python311\\site-packages\\statsmodels\\tsa\\statespace\\sarimax.py:978: UserWarning: Non-invertible starting MA parameters found. Using zeros as starting parameters.\n",
      "  warn('Non-invertible starting MA parameters found.'\n"
     ]
    },
    {
     "name": "stdout",
     "output_type": "stream",
     "text": [
      "MAE: 4809.60117062079, MSE: 23532320.574685574, RMSE: 4851.012324730332\n"
     ]
    },
    {
     "name": "stderr",
     "output_type": "stream",
     "text": [
      "C:\\Users\\admin\\AppData\\Local\\Packages\\PythonSoftwareFoundation.Python.3.11_qbz5n2kfra8p0\\LocalCache\\local-packages\\Python311\\site-packages\\statsmodels\\base\\model.py:607: ConvergenceWarning: Maximum Likelihood optimization failed to converge. Check mle_retvals\n",
      "  warnings.warn(\"Maximum Likelihood optimization failed to \"\n"
     ]
    }
   ],
   "source": [
    "# Xây dựng mô hình ARIMAX và đánh giá hiệu suất\n",
    "def evaluate_arimax(train_data, test_data):\n",
    "    exog_train = train_data[['amount_lag1', 'amount_lag2']]\n",
    "    exog_test = test_data[['amount_lag1', 'amount_lag2']]\n",
    "    \n",
    "    model = sm.tsa.statespace.SARIMAX(train_data['amount'], exog=exog_train, order=(1, 1, 1), seasonal_order=(1, 1, 1, 12))\n",
    "    results = model.fit()\n",
    "    \n",
    "    # Dự đoán\n",
    "    forecast = results.get_forecast(steps=len(test_data), exog=exog_test)\n",
    "    forecast_mean = forecast.predicted_mean\n",
    "    \n",
    "    # Đánh giá\n",
    "    mae = mean_absolute_error(test_data['amount'], forecast_mean)\n",
    "    mse = mean_squared_error(test_data['amount'], forecast_mean)\n",
    "    rmse = np.sqrt(mse)\n",
    "    \n",
    "    return mae, mse, rmse, forecast_mean\n",
    "\n",
    "mae, mse, rmse, forecast_mean = evaluate_arimax(train_data, test_data)\n",
    "print(f'MAE: {mae}, MSE: {mse}, RMSE: {rmse}')"
   ]
  },
  {
   "cell_type": "code",
   "execution_count": 23,
   "metadata": {},
   "outputs": [
    {
     "data": {
      "text/plain": [
       "2023-07-01    5509.942580\n",
       "2023-07-02    3345.895696\n",
       "2023-07-03    3496.610676\n",
       "2023-07-04    3716.995515\n",
       "2023-07-05    3620.020258\n",
       "                 ...     \n",
       "2023-12-27    5939.725847\n",
       "2023-12-28    5923.436562\n",
       "2023-12-29    5914.879573\n",
       "2023-12-30    5715.196018\n",
       "2023-12-31    5839.785105\n",
       "Freq: D, Name: predicted_mean, Length: 184, dtype: float64"
      ]
     },
     "execution_count": 23,
     "metadata": {},
     "output_type": "execute_result"
    }
   ],
   "source": [
    "forecast_mean"
   ]
  },
  {
   "cell_type": "code",
   "execution_count": 20,
   "metadata": {},
   "outputs": [
    {
     "data": {
      "image/png": "[encoded data removed]",
      "text/plain": [
       "<Figure size 1200x600 with 1 Axes>"
      ]
     },
     "metadata": {},
     "output_type": "display_data"
    }
   ],
   "source": [
    "# Hiển thị kết quả\n",
    "plt.figure(figsize=(12, 6))\n",
    "plt.plot(df_daily.index, df_daily['amount'], label='Observed')\n",
    "plt.plot(forecast_mean.index, forecast_mean, color='r', label='Forecast')\n",
    "plt.legend()\n",
    "plt.show()"
   ]
  },
  {
   "cell_type": "code",
   "execution_count": 26,
   "metadata": {},
   "outputs": [],
   "source": [
    "# # Dự đoán cho khoảng thời gian 1/7 đến 31/12\n",
    "# future_exog = df_daily[['amount_lag1', 'amount_lag2']].reindex(future_dates).fillna(df_daily.mean())\n",
    "\n",
    "# future_forecast = forecast_mean.get_forecast(steps=len(future_dates), exog=future_exog)\n",
    "# future_forecast_mean = future_forecast.predicted_mean\n",
    "# future_forecast_ci = future_forecast.conf_int()\n",
    "\n",
    "# # Hiển thị kết quả dự đoán tương lai\n",
    "# plt.figure(figsize=(12, 6))\n",
    "# plt.plot(df_daily.index, df_daily['amount'], label='Observed')\n",
    "# plt.plot(future_forecast_mean.index, future_forecast_mean, color='r', label='Future Forecast')\n",
    "# plt.fill_between(future_forecast_ci.index,\n",
    "#                  future_forecast_ci.iloc[:, 0],\n",
    "#                  future_forecast_ci.iloc[:, 1], color='pink')\n",
    "# plt.legend()\n",
    "# plt.show()"
   ]
  },
  {
   "cell_type": "code",
   "execution_count": 27,
   "metadata": {},
   "outputs": [],
   "source": [
    "# df_forecast = future_forecast_mean.to_frame(name='predicted_amount')"
   ]
  },
  {
   "cell_type": "code",
   "execution_count": 28,
   "metadata": {},
   "outputs": [
    {
     "ename": "KeyError",
     "evalue": "'predicted_amount'",
     "output_type": "error",
     "traceback": [
      "\u001b[1;31m---------------------------------------------------------------------------\u001b[0m",
      "\u001b[1;31mDateParseError\u001b[0m                            Traceback (most recent call last)",
      "File \u001b[1;32m~\\AppData\\Local\\Packages\\PythonSoftwareFoundation.Python.3.11_qbz5n2kfra8p0\\LocalCache\\local-packages\\Python311\\site-packages\\pandas\\core\\indexes\\datetimes.py:603\u001b[0m, in \u001b[0;36mDatetimeIndex.get_loc\u001b[1;34m(self, key)\u001b[0m\n\u001b[0;32m    602\u001b[0m \u001b[38;5;28;01mtry\u001b[39;00m:\n\u001b[1;32m--> 603\u001b[0m     parsed, reso \u001b[38;5;241m=\u001b[39m \u001b[38;5;28;43mself\u001b[39;49m\u001b[38;5;241;43m.\u001b[39;49m\u001b[43m_parse_with_reso\u001b[49m\u001b[43m(\u001b[49m\u001b[43mkey\u001b[49m\u001b[43m)\u001b[49m\n\u001b[0;32m    604\u001b[0m \u001b[38;5;28;01mexcept\u001b[39;00m (\u001b[38;5;167;01mValueError\u001b[39;00m, pytz\u001b[38;5;241m.\u001b[39mNonExistentTimeError) \u001b[38;5;28;01mas\u001b[39;00m err:\n",
      "File \u001b[1;32m~\\AppData\\Local\\Packages\\PythonSoftwareFoundation.Python.3.11_qbz5n2kfra8p0\\LocalCache\\local-packages\\Python311\\site-packages\\pandas\\core\\indexes\\datetimes.py:559\u001b[0m, in \u001b[0;36mDatetimeIndex._parse_with_reso\u001b[1;34m(self, label)\u001b[0m\n\u001b[0;32m    558\u001b[0m \u001b[38;5;28;01mdef\u001b[39;00m \u001b[38;5;21m_parse_with_reso\u001b[39m(\u001b[38;5;28mself\u001b[39m, label: \u001b[38;5;28mstr\u001b[39m):\n\u001b[1;32m--> 559\u001b[0m     parsed, reso \u001b[38;5;241m=\u001b[39m \u001b[38;5;28;43msuper\u001b[39;49m\u001b[43m(\u001b[49m\u001b[43m)\u001b[49m\u001b[38;5;241;43m.\u001b[39;49m\u001b[43m_parse_with_reso\u001b[49m\u001b[43m(\u001b[49m\u001b[43mlabel\u001b[49m\u001b[43m)\u001b[49m\n\u001b[0;32m    561\u001b[0m     parsed \u001b[38;5;241m=\u001b[39m Timestamp(parsed)\n",
      "File \u001b[1;32m~\\AppData\\Local\\Packages\\PythonSoftwareFoundation.Python.3.11_qbz5n2kfra8p0\\LocalCache\\local-packages\\Python311\\site-packages\\pandas\\core\\indexes\\datetimelike.py:293\u001b[0m, in \u001b[0;36mDatetimeIndexOpsMixin._parse_with_reso\u001b[1;34m(self, label)\u001b[0m\n\u001b[0;32m    291\u001b[0m     label \u001b[38;5;241m=\u001b[39m \u001b[38;5;28mstr\u001b[39m(label)\n\u001b[1;32m--> 293\u001b[0m parsed, reso_str \u001b[38;5;241m=\u001b[39m \u001b[43mparsing\u001b[49m\u001b[38;5;241;43m.\u001b[39;49m\u001b[43mparse_datetime_string_with_reso\u001b[49m\u001b[43m(\u001b[49m\u001b[43mlabel\u001b[49m\u001b[43m,\u001b[49m\u001b[43m \u001b[49m\u001b[43mfreqstr\u001b[49m\u001b[43m)\u001b[49m\n\u001b[0;32m    294\u001b[0m reso \u001b[38;5;241m=\u001b[39m Resolution\u001b[38;5;241m.\u001b[39mfrom_attrname(reso_str)\n",
      "File \u001b[1;32mparsing.pyx:442\u001b[0m, in \u001b[0;36mpandas._libs.tslibs.parsing.parse_datetime_string_with_reso\u001b[1;34m()\u001b[0m\n",
      "File \u001b[1;32mparsing.pyx:666\u001b[0m, in \u001b[0;36mpandas._libs.tslibs.parsing.dateutil_parse\u001b[1;34m()\u001b[0m\n",
      "\u001b[1;31mDateParseError\u001b[0m: Unknown datetime string format, unable to parse: predicted_amount",
      "\nThe above exception was the direct cause of the following exception:\n",
      "\u001b[1;31mKeyError\u001b[0m                                  Traceback (most recent call last)",
      "Cell \u001b[1;32mIn[28], line 1\u001b[0m\n\u001b[1;32m----> 1\u001b[0m df_daily\u001b[38;5;241m.\u001b[39mloc[df_daily[\u001b[38;5;124m'\u001b[39m\u001b[38;5;124mamount\u001b[39m\u001b[38;5;124m'\u001b[39m] \u001b[38;5;241m==\u001b[39m \u001b[38;5;241m0\u001b[39m, \u001b[38;5;124m'\u001b[39m\u001b[38;5;124mamount\u001b[39m\u001b[38;5;124m'\u001b[39m] \u001b[38;5;241m=\u001b[39m \u001b[43mforecast_mean\u001b[49m\u001b[43m[\u001b[49m\u001b[38;5;124;43m'\u001b[39;49m\u001b[38;5;124;43mpredicted_amount\u001b[39;49m\u001b[38;5;124;43m'\u001b[39;49m\u001b[43m]\u001b[49m\n",
      "File \u001b[1;32m~\\AppData\\Local\\Packages\\PythonSoftwareFoundation.Python.3.11_qbz5n2kfra8p0\\LocalCache\\local-packages\\Python311\\site-packages\\pandas\\core\\series.py:1121\u001b[0m, in \u001b[0;36mSeries.__getitem__\u001b[1;34m(self, key)\u001b[0m\n\u001b[0;32m   1118\u001b[0m     \u001b[38;5;28;01mreturn\u001b[39;00m \u001b[38;5;28mself\u001b[39m\u001b[38;5;241m.\u001b[39m_values[key]\n\u001b[0;32m   1120\u001b[0m \u001b[38;5;28;01melif\u001b[39;00m key_is_scalar:\n\u001b[1;32m-> 1121\u001b[0m     \u001b[38;5;28;01mreturn\u001b[39;00m \u001b[38;5;28;43mself\u001b[39;49m\u001b[38;5;241;43m.\u001b[39;49m\u001b[43m_get_value\u001b[49m\u001b[43m(\u001b[49m\u001b[43mkey\u001b[49m\u001b[43m)\u001b[49m\n\u001b[0;32m   1123\u001b[0m \u001b[38;5;66;03m# Convert generator to list before going through hashable part\u001b[39;00m\n\u001b[0;32m   1124\u001b[0m \u001b[38;5;66;03m# (We will iterate through the generator there to check for slices)\u001b[39;00m\n\u001b[0;32m   1125\u001b[0m \u001b[38;5;28;01mif\u001b[39;00m is_iterator(key):\n",
      "File \u001b[1;32m~\\AppData\\Local\\Packages\\PythonSoftwareFoundation.Python.3.11_qbz5n2kfra8p0\\LocalCache\\local-packages\\Python311\\site-packages\\pandas\\core\\series.py:1237\u001b[0m, in \u001b[0;36mSeries._get_value\u001b[1;34m(self, label, takeable)\u001b[0m\n\u001b[0;32m   1234\u001b[0m     \u001b[38;5;28;01mreturn\u001b[39;00m \u001b[38;5;28mself\u001b[39m\u001b[38;5;241m.\u001b[39m_values[label]\n\u001b[0;32m   1236\u001b[0m \u001b[38;5;66;03m# Similar to Index.get_value, but we do not fall back to positional\u001b[39;00m\n\u001b[1;32m-> 1237\u001b[0m loc \u001b[38;5;241m=\u001b[39m \u001b[38;5;28;43mself\u001b[39;49m\u001b[38;5;241;43m.\u001b[39;49m\u001b[43mindex\u001b[49m\u001b[38;5;241;43m.\u001b[39;49m\u001b[43mget_loc\u001b[49m\u001b[43m(\u001b[49m\u001b[43mlabel\u001b[49m\u001b[43m)\u001b[49m\n\u001b[0;32m   1239\u001b[0m \u001b[38;5;28;01mif\u001b[39;00m is_integer(loc):\n\u001b[0;32m   1240\u001b[0m     \u001b[38;5;28;01mreturn\u001b[39;00m \u001b[38;5;28mself\u001b[39m\u001b[38;5;241m.\u001b[39m_values[loc]\n",
      "File \u001b[1;32m~\\AppData\\Local\\Packages\\PythonSoftwareFoundation.Python.3.11_qbz5n2kfra8p0\\LocalCache\\local-packages\\Python311\\site-packages\\pandas\\core\\indexes\\datetimes.py:605\u001b[0m, in \u001b[0;36mDatetimeIndex.get_loc\u001b[1;34m(self, key)\u001b[0m\n\u001b[0;32m    603\u001b[0m     parsed, reso \u001b[38;5;241m=\u001b[39m \u001b[38;5;28mself\u001b[39m\u001b[38;5;241m.\u001b[39m_parse_with_reso(key)\n\u001b[0;32m    604\u001b[0m \u001b[38;5;28;01mexcept\u001b[39;00m (\u001b[38;5;167;01mValueError\u001b[39;00m, pytz\u001b[38;5;241m.\u001b[39mNonExistentTimeError) \u001b[38;5;28;01mas\u001b[39;00m err:\n\u001b[1;32m--> 605\u001b[0m     \u001b[38;5;28;01mraise\u001b[39;00m \u001b[38;5;167;01mKeyError\u001b[39;00m(key) \u001b[38;5;28;01mfrom\u001b[39;00m \u001b[38;5;21;01merr\u001b[39;00m\n\u001b[0;32m    606\u001b[0m \u001b[38;5;28mself\u001b[39m\u001b[38;5;241m.\u001b[39m_disallow_mismatched_indexing(parsed)\n\u001b[0;32m    608\u001b[0m \u001b[38;5;28;01mif\u001b[39;00m \u001b[38;5;28mself\u001b[39m\u001b[38;5;241m.\u001b[39m_can_partial_date_slice(reso):\n",
      "\u001b[1;31mKeyError\u001b[0m: 'predicted_amount'"
     ]
    }
   ],
   "source": [
    "df_daily.loc[df_daily['amount'] == 0, 'amount'] = forecast_mean['predicted_amount']"
   ]
  },
  {
   "cell_type": "code",
   "execution_count": 29,
   "metadata": {},
   "outputs": [],
   "source": [
    "df_daily.to_csv(r'D:\\OneDrive\\KiotViet\\Python_for_work\\coffee_shop_sales\\doanh_thu_du_doan.csv', index=True)\n"
   ]
  }
 ],
 "metadata": {
  "kernelspec": {
   "display_name": "Python 3",
   "language": "python",
   "name": "python3"
  },
  "language_info": {
   "codemirror_mode": {
    "name": "ipython",
    "version": 3
   },
   "file_extension": ".py",
   "mimetype": "text/x-python",
   "name": "python",
   "nbconvert_exporter": "python",
   "pygments_lexer": "ipython3",
   "version": "3.11.9"
  },
  "orig_nbformat": 4
 },
 "nbformat": 4,
 "nbformat_minor": 2
}
